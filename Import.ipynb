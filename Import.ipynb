{
 "cells": [
  {
   "cell_type": "code",
   "execution_count": 680,
   "id": "f54f0437-e9ad-458e-a747-925bf12404e7",
   "metadata": {},
   "outputs": [
    {
     "name": "stdout",
     "output_type": "stream",
     "text": [
      "Defaulting to user installation because normal site-packages is not writeable\n",
      "Requirement already satisfied: pandas in /opt/tljh/user/lib/python3.9/site-packages (1.3.4)\n",
      "Requirement already satisfied: python-dateutil>=2.7.3 in /opt/tljh/user/lib/python3.9/site-packages (from pandas) (2.8.2)\n",
      "Requirement already satisfied: pytz>=2017.3 in /opt/tljh/user/lib/python3.9/site-packages (from pandas) (2021.3)\n",
      "Requirement already satisfied: numpy>=1.17.3 in /opt/tljh/user/lib/python3.9/site-packages (from pandas) (1.19.5)\n",
      "Requirement already satisfied: six>=1.5 in /opt/tljh/user/lib/python3.9/site-packages (from python-dateutil>=2.7.3->pandas) (1.15.0)\n",
      "Defaulting to user installation because normal site-packages is not writeable\n",
      "Requirement already satisfied: matplotlib in /opt/tljh/user/lib/python3.9/site-packages (3.5.0)\n",
      "Requirement already satisfied: numpy>=1.17 in /opt/tljh/user/lib/python3.9/site-packages (from matplotlib) (1.19.5)\n",
      "Requirement already satisfied: kiwisolver>=1.0.1 in /opt/tljh/user/lib/python3.9/site-packages (from matplotlib) (1.3.2)\n",
      "Requirement already satisfied: cycler>=0.10 in /opt/tljh/user/lib/python3.9/site-packages (from matplotlib) (0.11.0)\n",
      "Requirement already satisfied: packaging>=20.0 in /opt/tljh/user/lib/python3.9/site-packages (from matplotlib) (21.3)\n",
      "Requirement already satisfied: pillow>=6.2.0 in /opt/tljh/user/lib/python3.9/site-packages (from matplotlib) (8.4.0)\n",
      "Requirement already satisfied: python-dateutil>=2.7 in /opt/tljh/user/lib/python3.9/site-packages (from matplotlib) (2.8.2)\n",
      "Requirement already satisfied: fonttools>=4.22.0 in /opt/tljh/user/lib/python3.9/site-packages (from matplotlib) (4.28.2)\n",
      "Requirement already satisfied: pyparsing>=2.2.1 in /opt/tljh/user/lib/python3.9/site-packages (from matplotlib) (3.0.6)\n",
      "Requirement already satisfied: six>=1.5 in /opt/tljh/user/lib/python3.9/site-packages (from python-dateutil>=2.7->matplotlib) (1.15.0)\n",
      "Defaulting to user installation because normal site-packages is not writeable\n",
      "Requirement already satisfied: pyodbc in /opt/tljh/user/lib/python3.9/site-packages (4.0.32)\n"
     ]
    }
   ],
   "source": [
    "!pip install pandas\n",
    "!pip install matplotlib\n",
    "!pip install pyodbc"
   ]
  },
  {
   "cell_type": "code",
   "execution_count": 777,
   "id": "f72ec958-cccd-4853-9080-09d20e505b16",
   "metadata": {},
   "outputs": [],
   "source": [
    "import pandas as pd"
   ]
  },
  {
   "cell_type": "code",
   "execution_count": 778,
   "id": "d302ff1a-a767-46cf-865f-816439da6bb5",
   "metadata": {},
   "outputs": [],
   "source": [
    "data1 = pd.read_csv('telecom_customer_churn.csv')"
   ]
  },
  {
   "cell_type": "code",
   "execution_count": 779,
   "id": "e7552f2f-c042-4ae0-a9b7-206b086e4726",
   "metadata": {},
   "outputs": [
    {
     "data": {
      "text/html": [
       "<div>\n",
       "<style scoped>\n",
       "    .dataframe tbody tr th:only-of-type {\n",
       "        vertical-align: middle;\n",
       "    }\n",
       "\n",
       "    .dataframe tbody tr th {\n",
       "        vertical-align: top;\n",
       "    }\n",
       "\n",
       "    .dataframe thead th {\n",
       "        text-align: right;\n",
       "    }\n",
       "</style>\n",
       "<table border=\"1\" class=\"dataframe\">\n",
       "  <thead>\n",
       "    <tr style=\"text-align: right;\">\n",
       "      <th></th>\n",
       "      <th>Customer_ID</th>\n",
       "      <th>Gender</th>\n",
       "      <th>Age</th>\n",
       "      <th>Married</th>\n",
       "      <th>Number_of_Dependents</th>\n",
       "      <th>City</th>\n",
       "      <th>Zip_Code</th>\n",
       "      <th>Latitude</th>\n",
       "      <th>Longitude</th>\n",
       "      <th>Number_of_Referrals</th>\n",
       "      <th>...</th>\n",
       "      <th>Payment_Method</th>\n",
       "      <th>Monthly_Charge</th>\n",
       "      <th>Total_Charges</th>\n",
       "      <th>Total_Refunds</th>\n",
       "      <th>Total_Extra_Data_Charges</th>\n",
       "      <th>Total_Long_Distance_Charges</th>\n",
       "      <th>Total_Revenue</th>\n",
       "      <th>Customer_Status</th>\n",
       "      <th>Churn_Category</th>\n",
       "      <th>Churn_Reason</th>\n",
       "    </tr>\n",
       "  </thead>\n",
       "  <tbody>\n",
       "    <tr>\n",
       "      <th>0</th>\n",
       "      <td>0002-ORFBO</td>\n",
       "      <td>Female</td>\n",
       "      <td>37</td>\n",
       "      <td>1</td>\n",
       "      <td>0</td>\n",
       "      <td>Frazier Park</td>\n",
       "      <td>93225</td>\n",
       "      <td>34.827663</td>\n",
       "      <td>-118.999069</td>\n",
       "      <td>2</td>\n",
       "      <td>...</td>\n",
       "      <td>Credit Card</td>\n",
       "      <td>65.599998</td>\n",
       "      <td>593.299988</td>\n",
       "      <td>0.000000</td>\n",
       "      <td>0</td>\n",
       "      <td>381.510010</td>\n",
       "      <td>974.809998</td>\n",
       "      <td>Stayed</td>\n",
       "      <td>NaN</td>\n",
       "      <td>NaN</td>\n",
       "    </tr>\n",
       "    <tr>\n",
       "      <th>1</th>\n",
       "      <td>0003-MKNFE</td>\n",
       "      <td>Male</td>\n",
       "      <td>46</td>\n",
       "      <td>0</td>\n",
       "      <td>0</td>\n",
       "      <td>Glendale</td>\n",
       "      <td>91206</td>\n",
       "      <td>34.162514</td>\n",
       "      <td>-118.203873</td>\n",
       "      <td>0</td>\n",
       "      <td>...</td>\n",
       "      <td>Credit Card</td>\n",
       "      <td>-4.000000</td>\n",
       "      <td>542.400024</td>\n",
       "      <td>38.330002</td>\n",
       "      <td>10</td>\n",
       "      <td>96.209999</td>\n",
       "      <td>610.280029</td>\n",
       "      <td>Stayed</td>\n",
       "      <td>NaN</td>\n",
       "      <td>NaN</td>\n",
       "    </tr>\n",
       "    <tr>\n",
       "      <th>2</th>\n",
       "      <td>0004-TLHLJ</td>\n",
       "      <td>Male</td>\n",
       "      <td>50</td>\n",
       "      <td>0</td>\n",
       "      <td>0</td>\n",
       "      <td>Costa Mesa</td>\n",
       "      <td>92627</td>\n",
       "      <td>33.645672</td>\n",
       "      <td>-117.922615</td>\n",
       "      <td>0</td>\n",
       "      <td>...</td>\n",
       "      <td>Bank Withdrawal</td>\n",
       "      <td>73.900002</td>\n",
       "      <td>280.850006</td>\n",
       "      <td>0.000000</td>\n",
       "      <td>0</td>\n",
       "      <td>134.600006</td>\n",
       "      <td>415.450012</td>\n",
       "      <td>Churned</td>\n",
       "      <td>Competitor</td>\n",
       "      <td>Competitor had better devices</td>\n",
       "    </tr>\n",
       "    <tr>\n",
       "      <th>3</th>\n",
       "      <td>0011-IGKFF</td>\n",
       "      <td>Male</td>\n",
       "      <td>78</td>\n",
       "      <td>1</td>\n",
       "      <td>0</td>\n",
       "      <td>Martinez</td>\n",
       "      <td>94553</td>\n",
       "      <td>38.014458</td>\n",
       "      <td>-122.115433</td>\n",
       "      <td>1</td>\n",
       "      <td>...</td>\n",
       "      <td>Bank Withdrawal</td>\n",
       "      <td>98.000000</td>\n",
       "      <td>1237.849976</td>\n",
       "      <td>0.000000</td>\n",
       "      <td>0</td>\n",
       "      <td>361.660004</td>\n",
       "      <td>1599.510010</td>\n",
       "      <td>Churned</td>\n",
       "      <td>Dissatisfaction</td>\n",
       "      <td>Product dissatisfaction</td>\n",
       "    </tr>\n",
       "    <tr>\n",
       "      <th>4</th>\n",
       "      <td>0013-EXCHZ</td>\n",
       "      <td>Female</td>\n",
       "      <td>75</td>\n",
       "      <td>1</td>\n",
       "      <td>0</td>\n",
       "      <td>Camarillo</td>\n",
       "      <td>93010</td>\n",
       "      <td>34.227844</td>\n",
       "      <td>-119.079903</td>\n",
       "      <td>3</td>\n",
       "      <td>...</td>\n",
       "      <td>Credit Card</td>\n",
       "      <td>83.900002</td>\n",
       "      <td>267.399994</td>\n",
       "      <td>0.000000</td>\n",
       "      <td>0</td>\n",
       "      <td>22.139999</td>\n",
       "      <td>289.540009</td>\n",
       "      <td>Churned</td>\n",
       "      <td>Dissatisfaction</td>\n",
       "      <td>Network reliability</td>\n",
       "    </tr>\n",
       "  </tbody>\n",
       "</table>\n",
       "<p>5 rows × 38 columns</p>\n",
       "</div>"
      ],
      "text/plain": [
       "  Customer_ID  Gender  Age  Married  Number_of_Dependents          City  \\\n",
       "0  0002-ORFBO  Female   37        1                     0  Frazier Park   \n",
       "1  0003-MKNFE    Male   46        0                     0      Glendale   \n",
       "2  0004-TLHLJ    Male   50        0                     0    Costa Mesa   \n",
       "3  0011-IGKFF    Male   78        1                     0      Martinez   \n",
       "4  0013-EXCHZ  Female   75        1                     0     Camarillo   \n",
       "\n",
       "   Zip_Code   Latitude   Longitude  Number_of_Referrals  ...   Payment_Method  \\\n",
       "0     93225  34.827663 -118.999069                    2  ...      Credit Card   \n",
       "1     91206  34.162514 -118.203873                    0  ...      Credit Card   \n",
       "2     92627  33.645672 -117.922615                    0  ...  Bank Withdrawal   \n",
       "3     94553  38.014458 -122.115433                    1  ...  Bank Withdrawal   \n",
       "4     93010  34.227844 -119.079903                    3  ...      Credit Card   \n",
       "\n",
       "  Monthly_Charge  Total_Charges  Total_Refunds  Total_Extra_Data_Charges  \\\n",
       "0      65.599998     593.299988       0.000000                         0   \n",
       "1      -4.000000     542.400024      38.330002                        10   \n",
       "2      73.900002     280.850006       0.000000                         0   \n",
       "3      98.000000    1237.849976       0.000000                         0   \n",
       "4      83.900002     267.399994       0.000000                         0   \n",
       "\n",
       "   Total_Long_Distance_Charges Total_Revenue  Customer_Status  \\\n",
       "0                   381.510010    974.809998           Stayed   \n",
       "1                    96.209999    610.280029           Stayed   \n",
       "2                   134.600006    415.450012          Churned   \n",
       "3                   361.660004   1599.510010          Churned   \n",
       "4                    22.139999    289.540009          Churned   \n",
       "\n",
       "    Churn_Category                   Churn_Reason  \n",
       "0              NaN                            NaN  \n",
       "1              NaN                            NaN  \n",
       "2       Competitor  Competitor had better devices  \n",
       "3  Dissatisfaction        Product dissatisfaction  \n",
       "4  Dissatisfaction            Network reliability  \n",
       "\n",
       "[5 rows x 38 columns]"
      ]
     },
     "execution_count": 779,
     "metadata": {},
     "output_type": "execute_result"
    }
   ],
   "source": [
    "data1.head()"
   ]
  },
  {
   "cell_type": "code",
   "execution_count": null,
   "id": "5e119737-53c4-4a40-a7ed-3297f8420683",
   "metadata": {},
   "outputs": [],
   "source": []
  },
  {
   "cell_type": "code",
   "execution_count": 780,
   "id": "59838cec-4a29-4f44-89b1-6d362fb8a5b8",
   "metadata": {},
   "outputs": [],
   "source": [
    "data2 = pd.read_csv('telecom_zipcode_population.csv')"
   ]
  },
  {
   "cell_type": "code",
   "execution_count": 781,
   "id": "ba3fa393-6d16-49aa-8663-a4f5c3170d7f",
   "metadata": {},
   "outputs": [
    {
     "data": {
      "text/html": [
       "<div>\n",
       "<style scoped>\n",
       "    .dataframe tbody tr th:only-of-type {\n",
       "        vertical-align: middle;\n",
       "    }\n",
       "\n",
       "    .dataframe tbody tr th {\n",
       "        vertical-align: top;\n",
       "    }\n",
       "\n",
       "    .dataframe thead th {\n",
       "        text-align: right;\n",
       "    }\n",
       "</style>\n",
       "<table border=\"1\" class=\"dataframe\">\n",
       "  <thead>\n",
       "    <tr style=\"text-align: right;\">\n",
       "      <th></th>\n",
       "      <th>Zip_Code</th>\n",
       "      <th>Population</th>\n",
       "    </tr>\n",
       "  </thead>\n",
       "  <tbody>\n",
       "    <tr>\n",
       "      <th>0</th>\n",
       "      <td>90001</td>\n",
       "      <td>54492</td>\n",
       "    </tr>\n",
       "    <tr>\n",
       "      <th>1</th>\n",
       "      <td>90002</td>\n",
       "      <td>44586</td>\n",
       "    </tr>\n",
       "    <tr>\n",
       "      <th>2</th>\n",
       "      <td>90003</td>\n",
       "      <td>58198</td>\n",
       "    </tr>\n",
       "    <tr>\n",
       "      <th>3</th>\n",
       "      <td>90004</td>\n",
       "      <td>67852</td>\n",
       "    </tr>\n",
       "  </tbody>\n",
       "</table>\n",
       "</div>"
      ],
      "text/plain": [
       "   Zip_Code  Population\n",
       "0     90001       54492\n",
       "1     90002       44586\n",
       "2     90003       58198\n",
       "3     90004       67852"
      ]
     },
     "execution_count": 781,
     "metadata": {},
     "output_type": "execute_result"
    }
   ],
   "source": [
    "data2.head(4)"
   ]
  },
  {
   "cell_type": "code",
   "execution_count": null,
   "id": "e444c212-54a6-4d70-96f6-2d821f049766",
   "metadata": {},
   "outputs": [],
   "source": []
  },
  {
   "cell_type": "code",
   "execution_count": 782,
   "id": "7a20183a-1b4d-4597-a551-6e5ca2dbcad7",
   "metadata": {},
   "outputs": [],
   "source": [
    "data_frame = pd.merge(data1, data2, on='Zip_Code')"
   ]
  },
  {
   "cell_type": "code",
   "execution_count": 783,
   "id": "631a7504-c088-479c-952a-bbd7e167510e",
   "metadata": {},
   "outputs": [
    {
     "data": {
      "text/html": [
       "<div>\n",
       "<style scoped>\n",
       "    .dataframe tbody tr th:only-of-type {\n",
       "        vertical-align: middle;\n",
       "    }\n",
       "\n",
       "    .dataframe tbody tr th {\n",
       "        vertical-align: top;\n",
       "    }\n",
       "\n",
       "    .dataframe thead th {\n",
       "        text-align: right;\n",
       "    }\n",
       "</style>\n",
       "<table border=\"1\" class=\"dataframe\">\n",
       "  <thead>\n",
       "    <tr style=\"text-align: right;\">\n",
       "      <th></th>\n",
       "      <th>Customer_ID</th>\n",
       "      <th>Gender</th>\n",
       "      <th>Age</th>\n",
       "      <th>Married</th>\n",
       "      <th>Number_of_Dependents</th>\n",
       "      <th>City</th>\n",
       "      <th>Zip_Code</th>\n",
       "      <th>Latitude</th>\n",
       "      <th>Longitude</th>\n",
       "      <th>Number_of_Referrals</th>\n",
       "      <th>...</th>\n",
       "      <th>Monthly_Charge</th>\n",
       "      <th>Total_Charges</th>\n",
       "      <th>Total_Refunds</th>\n",
       "      <th>Total_Extra_Data_Charges</th>\n",
       "      <th>Total_Long_Distance_Charges</th>\n",
       "      <th>Total_Revenue</th>\n",
       "      <th>Customer_Status</th>\n",
       "      <th>Churn_Category</th>\n",
       "      <th>Churn_Reason</th>\n",
       "      <th>Population</th>\n",
       "    </tr>\n",
       "  </thead>\n",
       "  <tbody>\n",
       "    <tr>\n",
       "      <th>0</th>\n",
       "      <td>0002-ORFBO</td>\n",
       "      <td>Female</td>\n",
       "      <td>37</td>\n",
       "      <td>1</td>\n",
       "      <td>0</td>\n",
       "      <td>Frazier Park</td>\n",
       "      <td>93225</td>\n",
       "      <td>34.827663</td>\n",
       "      <td>-118.999069</td>\n",
       "      <td>2</td>\n",
       "      <td>...</td>\n",
       "      <td>65.599998</td>\n",
       "      <td>593.299988</td>\n",
       "      <td>0.00</td>\n",
       "      <td>0</td>\n",
       "      <td>381.510010</td>\n",
       "      <td>974.809998</td>\n",
       "      <td>Stayed</td>\n",
       "      <td>NaN</td>\n",
       "      <td>NaN</td>\n",
       "      <td>4498</td>\n",
       "    </tr>\n",
       "    <tr>\n",
       "      <th>1</th>\n",
       "      <td>5183-SNMJQ</td>\n",
       "      <td>Male</td>\n",
       "      <td>32</td>\n",
       "      <td>0</td>\n",
       "      <td>0</td>\n",
       "      <td>Frazier Park</td>\n",
       "      <td>93225</td>\n",
       "      <td>34.827663</td>\n",
       "      <td>-118.999069</td>\n",
       "      <td>0</td>\n",
       "      <td>...</td>\n",
       "      <td>95.099998</td>\n",
       "      <td>865.099976</td>\n",
       "      <td>43.25</td>\n",
       "      <td>0</td>\n",
       "      <td>456.899994</td>\n",
       "      <td>1278.750000</td>\n",
       "      <td>Stayed</td>\n",
       "      <td>NaN</td>\n",
       "      <td>NaN</td>\n",
       "      <td>4498</td>\n",
       "    </tr>\n",
       "    <tr>\n",
       "      <th>2</th>\n",
       "      <td>6847-KJLTS</td>\n",
       "      <td>Female</td>\n",
       "      <td>72</td>\n",
       "      <td>1</td>\n",
       "      <td>0</td>\n",
       "      <td>Frazier Park</td>\n",
       "      <td>93225</td>\n",
       "      <td>34.827663</td>\n",
       "      <td>-118.999069</td>\n",
       "      <td>8</td>\n",
       "      <td>...</td>\n",
       "      <td>100.400002</td>\n",
       "      <td>5749.799805</td>\n",
       "      <td>0.00</td>\n",
       "      <td>0</td>\n",
       "      <td>2745.719971</td>\n",
       "      <td>8495.519531</td>\n",
       "      <td>Stayed</td>\n",
       "      <td>NaN</td>\n",
       "      <td>NaN</td>\n",
       "      <td>4498</td>\n",
       "    </tr>\n",
       "    <tr>\n",
       "      <th>3</th>\n",
       "      <td>8788-DOXSU</td>\n",
       "      <td>Male</td>\n",
       "      <td>46</td>\n",
       "      <td>0</td>\n",
       "      <td>0</td>\n",
       "      <td>Frazier Park</td>\n",
       "      <td>93225</td>\n",
       "      <td>34.827663</td>\n",
       "      <td>-118.999069</td>\n",
       "      <td>0</td>\n",
       "      <td>...</td>\n",
       "      <td>61.349998</td>\n",
       "      <td>3645.500000</td>\n",
       "      <td>0.00</td>\n",
       "      <td>0</td>\n",
       "      <td>572.299988</td>\n",
       "      <td>4217.799805</td>\n",
       "      <td>Stayed</td>\n",
       "      <td>NaN</td>\n",
       "      <td>NaN</td>\n",
       "      <td>4498</td>\n",
       "    </tr>\n",
       "  </tbody>\n",
       "</table>\n",
       "<p>4 rows × 39 columns</p>\n",
       "</div>"
      ],
      "text/plain": [
       "  Customer_ID  Gender  Age  Married  Number_of_Dependents          City  \\\n",
       "0  0002-ORFBO  Female   37        1                     0  Frazier Park   \n",
       "1  5183-SNMJQ    Male   32        0                     0  Frazier Park   \n",
       "2  6847-KJLTS  Female   72        1                     0  Frazier Park   \n",
       "3  8788-DOXSU    Male   46        0                     0  Frazier Park   \n",
       "\n",
       "   Zip_Code   Latitude   Longitude  Number_of_Referrals  ...  Monthly_Charge  \\\n",
       "0     93225  34.827663 -118.999069                    2  ...       65.599998   \n",
       "1     93225  34.827663 -118.999069                    0  ...       95.099998   \n",
       "2     93225  34.827663 -118.999069                    8  ...      100.400002   \n",
       "3     93225  34.827663 -118.999069                    0  ...       61.349998   \n",
       "\n",
       "  Total_Charges  Total_Refunds  Total_Extra_Data_Charges  \\\n",
       "0    593.299988           0.00                         0   \n",
       "1    865.099976          43.25                         0   \n",
       "2   5749.799805           0.00                         0   \n",
       "3   3645.500000           0.00                         0   \n",
       "\n",
       "   Total_Long_Distance_Charges  Total_Revenue Customer_Status  Churn_Category  \\\n",
       "0                   381.510010     974.809998          Stayed             NaN   \n",
       "1                   456.899994    1278.750000          Stayed             NaN   \n",
       "2                  2745.719971    8495.519531          Stayed             NaN   \n",
       "3                   572.299988    4217.799805          Stayed             NaN   \n",
       "\n",
       "   Churn_Reason  Population  \n",
       "0           NaN        4498  \n",
       "1           NaN        4498  \n",
       "2           NaN        4498  \n",
       "3           NaN        4498  \n",
       "\n",
       "[4 rows x 39 columns]"
      ]
     },
     "execution_count": 783,
     "metadata": {},
     "output_type": "execute_result"
    }
   ],
   "source": [
    "data_frame.head(4)"
   ]
  },
  {
   "cell_type": "code",
   "execution_count": null,
   "id": "3c8fc68f-608e-45e3-86f3-0e8c8ca7622c",
   "metadata": {},
   "outputs": [],
   "source": []
  },
  {
   "cell_type": "code",
   "execution_count": 785,
   "id": "2293d1ab-7446-4aca-aa64-0a5bb1ad6c84",
   "metadata": {},
   "outputs": [],
   "source": [
    "data_frame = data_frame[data_frame['Churn_Reason'] != 'Deceased']"
   ]
  },
  {
   "cell_type": "code",
   "execution_count": 786,
   "id": "f11906f1-0fb7-4282-90d4-fd4b4f7f6440",
   "metadata": {},
   "outputs": [
    {
     "data": {
      "text/html": [
       "<div>\n",
       "<style scoped>\n",
       "    .dataframe tbody tr th:only-of-type {\n",
       "        vertical-align: middle;\n",
       "    }\n",
       "\n",
       "    .dataframe tbody tr th {\n",
       "        vertical-align: top;\n",
       "    }\n",
       "\n",
       "    .dataframe thead th {\n",
       "        text-align: right;\n",
       "    }\n",
       "</style>\n",
       "<table border=\"1\" class=\"dataframe\">\n",
       "  <thead>\n",
       "    <tr style=\"text-align: right;\">\n",
       "      <th></th>\n",
       "      <th>Customer_ID</th>\n",
       "      <th>Gender</th>\n",
       "      <th>Age</th>\n",
       "      <th>Married</th>\n",
       "      <th>Number_of_Dependents</th>\n",
       "      <th>City</th>\n",
       "      <th>Zip_Code</th>\n",
       "      <th>Latitude</th>\n",
       "      <th>Longitude</th>\n",
       "      <th>Number_of_Referrals</th>\n",
       "      <th>...</th>\n",
       "      <th>Monthly_Charge</th>\n",
       "      <th>Total_Charges</th>\n",
       "      <th>Total_Refunds</th>\n",
       "      <th>Total_Extra_Data_Charges</th>\n",
       "      <th>Total_Long_Distance_Charges</th>\n",
       "      <th>Total_Revenue</th>\n",
       "      <th>Customer_Status</th>\n",
       "      <th>Churn_Category</th>\n",
       "      <th>Churn_Reason</th>\n",
       "      <th>Population</th>\n",
       "    </tr>\n",
       "  </thead>\n",
       "  <tbody>\n",
       "    <tr>\n",
       "      <th>0</th>\n",
       "      <td>0002-ORFBO</td>\n",
       "      <td>Female</td>\n",
       "      <td>37</td>\n",
       "      <td>1</td>\n",
       "      <td>0</td>\n",
       "      <td>Frazier Park</td>\n",
       "      <td>93225</td>\n",
       "      <td>34.827663</td>\n",
       "      <td>-118.999069</td>\n",
       "      <td>2</td>\n",
       "      <td>...</td>\n",
       "      <td>65.599998</td>\n",
       "      <td>593.299988</td>\n",
       "      <td>0.000000</td>\n",
       "      <td>0</td>\n",
       "      <td>381.510010</td>\n",
       "      <td>974.809998</td>\n",
       "      <td>Stayed</td>\n",
       "      <td>NaN</td>\n",
       "      <td>NaN</td>\n",
       "      <td>4498</td>\n",
       "    </tr>\n",
       "    <tr>\n",
       "      <th>1</th>\n",
       "      <td>5183-SNMJQ</td>\n",
       "      <td>Male</td>\n",
       "      <td>32</td>\n",
       "      <td>0</td>\n",
       "      <td>0</td>\n",
       "      <td>Frazier Park</td>\n",
       "      <td>93225</td>\n",
       "      <td>34.827663</td>\n",
       "      <td>-118.999069</td>\n",
       "      <td>0</td>\n",
       "      <td>...</td>\n",
       "      <td>95.099998</td>\n",
       "      <td>865.099976</td>\n",
       "      <td>43.250000</td>\n",
       "      <td>0</td>\n",
       "      <td>456.899994</td>\n",
       "      <td>1278.750000</td>\n",
       "      <td>Stayed</td>\n",
       "      <td>NaN</td>\n",
       "      <td>NaN</td>\n",
       "      <td>4498</td>\n",
       "    </tr>\n",
       "    <tr>\n",
       "      <th>2</th>\n",
       "      <td>6847-KJLTS</td>\n",
       "      <td>Female</td>\n",
       "      <td>72</td>\n",
       "      <td>1</td>\n",
       "      <td>0</td>\n",
       "      <td>Frazier Park</td>\n",
       "      <td>93225</td>\n",
       "      <td>34.827663</td>\n",
       "      <td>-118.999069</td>\n",
       "      <td>8</td>\n",
       "      <td>...</td>\n",
       "      <td>100.400002</td>\n",
       "      <td>5749.799805</td>\n",
       "      <td>0.000000</td>\n",
       "      <td>0</td>\n",
       "      <td>2745.719971</td>\n",
       "      <td>8495.519531</td>\n",
       "      <td>Stayed</td>\n",
       "      <td>NaN</td>\n",
       "      <td>NaN</td>\n",
       "      <td>4498</td>\n",
       "    </tr>\n",
       "    <tr>\n",
       "      <th>3</th>\n",
       "      <td>8788-DOXSU</td>\n",
       "      <td>Male</td>\n",
       "      <td>46</td>\n",
       "      <td>0</td>\n",
       "      <td>0</td>\n",
       "      <td>Frazier Park</td>\n",
       "      <td>93225</td>\n",
       "      <td>34.827663</td>\n",
       "      <td>-118.999069</td>\n",
       "      <td>0</td>\n",
       "      <td>...</td>\n",
       "      <td>61.349998</td>\n",
       "      <td>3645.500000</td>\n",
       "      <td>0.000000</td>\n",
       "      <td>0</td>\n",
       "      <td>572.299988</td>\n",
       "      <td>4217.799805</td>\n",
       "      <td>Stayed</td>\n",
       "      <td>NaN</td>\n",
       "      <td>NaN</td>\n",
       "      <td>4498</td>\n",
       "    </tr>\n",
       "    <tr>\n",
       "      <th>4</th>\n",
       "      <td>0003-MKNFE</td>\n",
       "      <td>Male</td>\n",
       "      <td>46</td>\n",
       "      <td>0</td>\n",
       "      <td>0</td>\n",
       "      <td>Glendale</td>\n",
       "      <td>91206</td>\n",
       "      <td>34.162514</td>\n",
       "      <td>-118.203873</td>\n",
       "      <td>0</td>\n",
       "      <td>...</td>\n",
       "      <td>-4.000000</td>\n",
       "      <td>542.400024</td>\n",
       "      <td>38.330002</td>\n",
       "      <td>10</td>\n",
       "      <td>96.209999</td>\n",
       "      <td>610.280029</td>\n",
       "      <td>Stayed</td>\n",
       "      <td>NaN</td>\n",
       "      <td>NaN</td>\n",
       "      <td>31297</td>\n",
       "    </tr>\n",
       "    <tr>\n",
       "      <th>5</th>\n",
       "      <td>1918-ZBFQJ</td>\n",
       "      <td>Female</td>\n",
       "      <td>48</td>\n",
       "      <td>0</td>\n",
       "      <td>3</td>\n",
       "      <td>Glendale</td>\n",
       "      <td>91206</td>\n",
       "      <td>34.162514</td>\n",
       "      <td>-118.203873</td>\n",
       "      <td>0</td>\n",
       "      <td>...</td>\n",
       "      <td>79.250000</td>\n",
       "      <td>1111.650024</td>\n",
       "      <td>48.250000</td>\n",
       "      <td>0</td>\n",
       "      <td>436.019989</td>\n",
       "      <td>1499.420044</td>\n",
       "      <td>Churned</td>\n",
       "      <td>Competitor</td>\n",
       "      <td>Competitor had better devices</td>\n",
       "      <td>31297</td>\n",
       "    </tr>\n",
       "    <tr>\n",
       "      <th>6</th>\n",
       "      <td>4597-ELFTS</td>\n",
       "      <td>Male</td>\n",
       "      <td>57</td>\n",
       "      <td>0</td>\n",
       "      <td>0</td>\n",
       "      <td>Glendale</td>\n",
       "      <td>91206</td>\n",
       "      <td>34.162514</td>\n",
       "      <td>-118.203873</td>\n",
       "      <td>0</td>\n",
       "      <td>...</td>\n",
       "      <td>24.900000</td>\n",
       "      <td>1334.000000</td>\n",
       "      <td>0.000000</td>\n",
       "      <td>0</td>\n",
       "      <td>144.479996</td>\n",
       "      <td>1478.479980</td>\n",
       "      <td>Churned</td>\n",
       "      <td>Attitude</td>\n",
       "      <td>Attitude of support person</td>\n",
       "      <td>31297</td>\n",
       "    </tr>\n",
       "  </tbody>\n",
       "</table>\n",
       "<p>7 rows × 39 columns</p>\n",
       "</div>"
      ],
      "text/plain": [
       "  Customer_ID  Gender  Age  Married  Number_of_Dependents          City  \\\n",
       "0  0002-ORFBO  Female   37        1                     0  Frazier Park   \n",
       "1  5183-SNMJQ    Male   32        0                     0  Frazier Park   \n",
       "2  6847-KJLTS  Female   72        1                     0  Frazier Park   \n",
       "3  8788-DOXSU    Male   46        0                     0  Frazier Park   \n",
       "4  0003-MKNFE    Male   46        0                     0      Glendale   \n",
       "5  1918-ZBFQJ  Female   48        0                     3      Glendale   \n",
       "6  4597-ELFTS    Male   57        0                     0      Glendale   \n",
       "\n",
       "   Zip_Code   Latitude   Longitude  Number_of_Referrals  ...  Monthly_Charge  \\\n",
       "0     93225  34.827663 -118.999069                    2  ...       65.599998   \n",
       "1     93225  34.827663 -118.999069                    0  ...       95.099998   \n",
       "2     93225  34.827663 -118.999069                    8  ...      100.400002   \n",
       "3     93225  34.827663 -118.999069                    0  ...       61.349998   \n",
       "4     91206  34.162514 -118.203873                    0  ...       -4.000000   \n",
       "5     91206  34.162514 -118.203873                    0  ...       79.250000   \n",
       "6     91206  34.162514 -118.203873                    0  ...       24.900000   \n",
       "\n",
       "  Total_Charges  Total_Refunds  Total_Extra_Data_Charges  \\\n",
       "0    593.299988       0.000000                         0   \n",
       "1    865.099976      43.250000                         0   \n",
       "2   5749.799805       0.000000                         0   \n",
       "3   3645.500000       0.000000                         0   \n",
       "4    542.400024      38.330002                        10   \n",
       "5   1111.650024      48.250000                         0   \n",
       "6   1334.000000       0.000000                         0   \n",
       "\n",
       "   Total_Long_Distance_Charges  Total_Revenue Customer_Status  Churn_Category  \\\n",
       "0                   381.510010     974.809998          Stayed             NaN   \n",
       "1                   456.899994    1278.750000          Stayed             NaN   \n",
       "2                  2745.719971    8495.519531          Stayed             NaN   \n",
       "3                   572.299988    4217.799805          Stayed             NaN   \n",
       "4                    96.209999     610.280029          Stayed             NaN   \n",
       "5                   436.019989    1499.420044         Churned      Competitor   \n",
       "6                   144.479996    1478.479980         Churned        Attitude   \n",
       "\n",
       "                    Churn_Reason  Population  \n",
       "0                            NaN        4498  \n",
       "1                            NaN        4498  \n",
       "2                            NaN        4498  \n",
       "3                            NaN        4498  \n",
       "4                            NaN       31297  \n",
       "5  Competitor had better devices       31297  \n",
       "6     Attitude of support person       31297  \n",
       "\n",
       "[7 rows x 39 columns]"
      ]
     },
     "execution_count": 786,
     "metadata": {},
     "output_type": "execute_result"
    }
   ],
   "source": [
    "data_frame.head(7)"
   ]
  },
  {
   "cell_type": "code",
   "execution_count": 787,
   "id": "51cbf807-88c6-4867-b494-319a502aef78",
   "metadata": {},
   "outputs": [],
   "source": [
    "num_deceased_rows = (data_frame['Churn_Reason'].str.contains('Deceased')).sum()"
   ]
  },
  {
   "cell_type": "code",
   "execution_count": 788,
   "id": "5edf8012-1fac-4e17-8668-a5505d795dc2",
   "metadata": {},
   "outputs": [
    {
     "name": "stdout",
     "output_type": "stream",
     "text": [
      "Number of rows with 'Deceased' churn reason: 0\n"
     ]
    }
   ],
   "source": [
    "print(\"Number of rows with 'Deceased' churn reason:\", num_deceased_rows)"
   ]
  },
  {
   "cell_type": "code",
   "execution_count": null,
   "id": "c3533e15-81c3-4fc9-8213-cb454daff73c",
   "metadata": {},
   "outputs": [],
   "source": []
  },
  {
   "cell_type": "code",
   "execution_count": 789,
   "id": "2615656a-ccd7-41da-8d77-a62e23d5531a",
   "metadata": {},
   "outputs": [],
   "source": [
    "churned_df = data_frame[data_frame['Customer_Status'] == 'Churned']"
   ]
  },
  {
   "cell_type": "code",
   "execution_count": 790,
   "id": "140b80ab-6812-4dc0-8104-09c54a7d5ba6",
   "metadata": {},
   "outputs": [],
   "source": [
    "import matplotlib.pyplot as plt"
   ]
  },
  {
   "cell_type": "code",
   "execution_count": 791,
   "id": "82541d25-16de-459d-90cc-69d779640c29",
   "metadata": {},
   "outputs": [],
   "source": [
    "top_category = churned_df['Churn_Category'].value_counts().head(4)"
   ]
  },
  {
   "cell_type": "code",
   "execution_count": 792,
   "id": "8fefa208-d759-4db1-853b-abea3798b961",
   "metadata": {},
   "outputs": [
    {
     "data": {
      "image/png": "[encoded data removed]",
      "text/plain": [
       "<Figure size 432x288 with 1 Axes>"
      ]
     },
     "metadata": {},
     "output_type": "display_data"
    }
   ],
   "source": [
    "colors = ['#CF9FFF', '#D3D3D3', '#C0C0C0', '#A9A9A9']\n",
    "plt.pie(top_category, labels=top_category.index, colors=colors, autopct='%1.1f%%')\n",
    "plt.title('Top 4 Churn Reasons', fontsize=20, pad=15)\n",
    "plt.axis('equal')\n",
    "plt.show()"
   ]
  },
  {
   "cell_type": "code",
   "execution_count": null,
   "id": "aa05b012-74c4-49f7-b279-58633bf84510",
   "metadata": {},
   "outputs": [],
   "source": []
  },
  {
   "cell_type": "code",
   "execution_count": 793,
   "id": "88e638ab-cbda-498d-9512-7ae3b9e07912",
   "metadata": {},
   "outputs": [],
   "source": [
    "city_counts = data_frame['City'].value_counts()"
   ]
  },
  {
   "cell_type": "code",
   "execution_count": 794,
   "id": "37b17001-fcc6-486f-8165-bd6485b59d46",
   "metadata": {},
   "outputs": [],
   "source": [
    "top_3_cities = city_counts.head(3)"
   ]
  },
  {
   "cell_type": "code",
   "execution_count": 795,
   "id": "da78cfc2-7986-4281-a910-c3d887cd9f9e",
   "metadata": {},
   "outputs": [
    {
     "name": "stdout",
     "output_type": "stream",
     "text": [
      "Los Angeles    293\n",
      "San Diego      285\n",
      "San Jose       111\n",
      "Name: City, dtype: int64\n"
     ]
    }
   ],
   "source": [
    "print(top_3_cities)"
   ]
  },
  {
   "cell_type": "code",
   "execution_count": null,
   "id": "96d4fcd2-c7fa-4883-a5e1-665d66875e94",
   "metadata": {},
   "outputs": [],
   "source": []
  },
  {
   "cell_type": "code",
   "execution_count": 796,
   "id": "862ee648-70c6-46d7-b5e9-6ecfaf4ccb58",
   "metadata": {},
   "outputs": [
    {
     "name": "stdout",
     "output_type": "stream",
     "text": [
      "Churn Rate: 28.36%\n"
     ]
    }
   ],
   "source": [
    "los_angelos = data_frame[data_frame['City'] == 'Los Angeles']\n",
    "churn_count = los_angelos['Customer_Status'].value_counts().get('Churned', 0)\n",
    "stay_count = los_angelos['Customer_Status'].value_counts().get('Stayed', 0)\n",
    "total_customers = churn_count + stay_count\n",
    "churn_rate1 = (churn_count / total_customers) * 100\n",
    "print(f\"Churn Rate: {churn_rate1:.2f}%\")"
   ]
  },
  {
   "cell_type": "code",
   "execution_count": 797,
   "id": "6f239263-eb8b-45e1-9053-86ba15834d3a",
   "metadata": {},
   "outputs": [
    {
     "name": "stdout",
     "output_type": "stream",
     "text": [
      "Churn Rate: 66.55%\n"
     ]
    }
   ],
   "source": [
    "san_diego = data_frame[data_frame['City'] == 'San Diego']\n",
    "churn_count = san_diego['Customer_Status'].value_counts().get('Churned', 0)\n",
    "stay_count = san_diego['Customer_Status'].value_counts().get('Stayed', 0)\n",
    "total_customers = churn_count + stay_count\n",
    "churn_rate2 = (churn_count / total_customers) * 100\n",
    "print(f\"Churn Rate: {churn_rate2:.2f}%\")"
   ]
  },
  {
   "cell_type": "code",
   "execution_count": 798,
   "id": "6a37376a-b264-4b3a-becd-7b29cbe478c6",
   "metadata": {},
   "outputs": [
    {
     "name": "stdout",
     "output_type": "stream",
     "text": [
      "Churn Rate: 25.69%\n"
     ]
    }
   ],
   "source": [
    "san_jose = data_frame[data_frame['City'] == 'San Jose']\n",
    "churn_count = san_jose['Customer_Status'].value_counts().get('Churned', 0)\n",
    "stay_count = san_jose['Customer_Status'].value_counts().get('Stayed', 0)\n",
    "total_customers = churn_count + stay_count\n",
    "churn_rate3 = (churn_count / total_customers) * 100\n",
    "print(f\"Churn Rate: {churn_rate3:.2f}%\")"
   ]
  },
  {
   "cell_type": "code",
   "execution_count": null,
   "id": "e40aa9c9-b78c-405b-885e-7de10c3f4a22",
   "metadata": {},
   "outputs": [],
   "source": []
  },
  {
   "cell_type": "code",
   "execution_count": 799,
   "id": "38c527ac-7294-4af3-8f5c-5fd06e125b76",
   "metadata": {},
   "outputs": [],
   "source": [
    "stay_churn = data_frame[data_frame['Customer_Status'].isin(['Churned', 'Stayed'])]"
   ]
  },
  {
   "cell_type": "code",
   "execution_count": 800,
   "id": "ed6f2f47-d153-49f9-9299-7659229f7641",
   "metadata": {},
   "outputs": [
    {
     "data": {
      "image/png": "[encoded data removed]",
      "text/plain": [
       "<Figure size 720x432 with 1 Axes>"
      ]
     },
     "metadata": {
      "needs_background": "light"
     },
     "output_type": "display_data"
    }
   ],
   "source": [
    "cities = ['Los Angeles', 'San Diego', 'San Jose']\n",
    "filtered_data = stay_churn[(stay_churn['City'].isin(cities))]\n",
    "\n",
    "grouped_data = filtered_data.groupby('City')['Customer_Status'].value_counts().unstack().fillna(0)\n",
    "grouped_data = filtered_data.groupby(['City', 'Customer_Status']).size().unstack()\n",
    "\n",
    "colors = ['#CF9FFF', '#D3D3D3']\n",
    "grouped_data.plot(kind='bar', stacked=True, figsize=(10, 6), color=colors)\n",
    "plt.xlabel('City', fontsize=15)\n",
    "plt.ylabel('Frequency', fontsize=15)\n",
    "plt.title('Churn Rate in Top 3 Cities', fontsize=20)\n",
    "plt.legend(['Churned', 'Stayed'])\n",
    "plt.xticks(rotation=0)\n",
    "\n",
    "plt.text(0, churn_rate1, f'Rate: {churn_rate1:.2f}%', ha='center', va='top', fontsize=13)\n",
    "plt.text(1, churn_rate2, f'Rate: {churn_rate2:.2f}%', ha='center', va='top', fontsize=13)\n",
    "plt.text(2, churn_rate3, f'Rate: {churn_rate3:.2f}%', ha='center', va='top', fontsize=13)\n",
    "\n",
    "plt.show()"
   ]
  },
  {
   "cell_type": "code",
   "execution_count": null,
   "id": "9c92b8c2-5d27-4c06-bec6-5e1894044ca6",
   "metadata": {},
   "outputs": [],
   "source": []
  },
  {
   "cell_type": "code",
   "execution_count": 801,
   "id": "c8e6d17f-029a-4a2c-b4f6-0ede3906e010",
   "metadata": {},
   "outputs": [
    {
     "name": "stdout",
     "output_type": "stream",
     "text": [
      "Churn Rate: 29.13%\n"
     ]
    }
   ],
   "source": [
    "none = data_frame[data_frame['Offer'] == 'None']\n",
    "churn_count = none['Customer_Status'].value_counts().get('Churned', 0)\n",
    "stay_count = none['Customer_Status'].value_counts().get('Stayed', 0)\n",
    "total_customers = churn_count + stay_count\n",
    "churnrate1 = (churn_count / total_customers) * 100\n",
    "print(f\"Churn Rate: {churnrate1:.2f}%\")"
   ]
  },
  {
   "cell_type": "code",
   "execution_count": 802,
   "id": "4068aad8-42e9-4e62-87ce-2d75c03b31e1",
   "metadata": {},
   "outputs": [
    {
     "name": "stdout",
     "output_type": "stream",
     "text": [
      "Churn Rate: 6.73%\n"
     ]
    }
   ],
   "source": [
    "OfferA = data_frame[data_frame['Offer'] == 'Offer A']\n",
    "churn_count = OfferA['Customer_Status'].value_counts().get('Churned', 0)\n",
    "stay_count = OfferA['Customer_Status'].value_counts().get('Stayed', 0)\n",
    "total_customers = churn_count + stay_count\n",
    "churnrate2 = (churn_count / total_customers) * 100\n",
    "print(f\"Churn Rate: {churnrate2:.2f}%\")"
   ]
  },
  {
   "cell_type": "code",
   "execution_count": 803,
   "id": "1fbaf630-0b09-440e-91ef-b6a7b4bd75c3",
   "metadata": {},
   "outputs": [
    {
     "name": "stdout",
     "output_type": "stream",
     "text": [
      "Churn Rate: 12.26%\n"
     ]
    }
   ],
   "source": [
    "OfferB = data_frame[data_frame['Offer'] == 'Offer B']\n",
    "churn_count = OfferB['Customer_Status'].value_counts().get('Churned', 0)\n",
    "stay_count = OfferB['Customer_Status'].value_counts().get('Stayed', 0)\n",
    "total_customers = churn_count + stay_count\n",
    "churnrate3 = (churn_count / total_customers) * 100\n",
    "print(f\"Churn Rate: {churnrate3:.2f}%\")"
   ]
  },
  {
   "cell_type": "code",
   "execution_count": 804,
   "id": "da7d6174-93bf-4065-9cd0-54684b5abfd4",
   "metadata": {},
   "outputs": [
    {
     "name": "stdout",
     "output_type": "stream",
     "text": [
      "Churn Rate: 22.89%\n"
     ]
    }
   ],
   "source": [
    "OfferC = data_frame[data_frame['Offer'] == 'Offer C']\n",
    "churn_count = OfferC['Customer_Status'].value_counts().get('Churned', 0)\n",
    "stay_count = OfferC['Customer_Status'].value_counts().get('Stayed', 0)\n",
    "total_customers = churn_count + stay_count\n",
    "churnrate4 = (churn_count / total_customers) * 100\n",
    "print(f\"Churn Rate: {churnrate4:.2f}%\")"
   ]
  },
  {
   "cell_type": "code",
   "execution_count": 805,
   "id": "e935b235-aff2-4853-893c-b9f461486b09",
   "metadata": {},
   "outputs": [
    {
     "name": "stdout",
     "output_type": "stream",
     "text": [
      "Churn Rate: 26.62%\n"
     ]
    }
   ],
   "source": [
    "OfferD = data_frame[data_frame['Offer'] == 'Offer D']\n",
    "churn_count = OfferD['Customer_Status'].value_counts().get('Churned', 0)\n",
    "stay_count = OfferD['Customer_Status'].value_counts().get('Stayed', 0)\n",
    "total_customers = churn_count + stay_count\n",
    "churnrate5 = (churn_count / total_customers) * 100\n",
    "print(f\"Churn Rate: {churnrate5:.2f}%\")"
   ]
  },
  {
   "cell_type": "code",
   "execution_count": 806,
   "id": "cc9a0de1-2fdb-48cc-9ca5-f8342137fbbd",
   "metadata": {},
   "outputs": [
    {
     "name": "stdout",
     "output_type": "stream",
     "text": [
      "Churn Rate: 67.57%\n"
     ]
    }
   ],
   "source": [
    "OfferE = data_frame[data_frame['Offer'] == 'Offer E']\n",
    "churn_count = OfferE['Customer_Status'].value_counts().get('Churned', 0)\n",
    "stay_count = OfferE['Customer_Status'].value_counts().get('Stayed', 0)\n",
    "total_customers = churn_count + stay_count\n",
    "churnrate6 = (churn_count / total_customers) * 100\n",
    "print(f\"Churn Rate: {churnrate6:.2f}%\")"
   ]
  },
  {
   "cell_type": "code",
   "execution_count": null,
   "id": "d7f8bc2d-aca9-4de1-93e1-4863b260d562",
   "metadata": {},
   "outputs": [],
   "source": []
  },
  {
   "cell_type": "code",
   "execution_count": 807,
   "id": "1c39a565-4fa8-4b36-925e-ca77c70b1bc0",
   "metadata": {},
   "outputs": [],
   "source": [
    "stay_churn = data_frame[data_frame['Customer_Status'].isin(['Churned', 'Stayed'])]"
   ]
  },
  {
   "cell_type": "code",
   "execution_count": 808,
   "id": "f4a37d00-dcc5-4749-8ff1-54367ba7a3d7",
   "metadata": {},
   "outputs": [
    {
     "data": {
      "image/png": "[encoded data removed]",
      "text/plain": [
       "<Figure size 720x432 with 1 Axes>"
      ]
     },
     "metadata": {
      "needs_background": "light"
     },
     "output_type": "display_data"
    }
   ],
   "source": [
    "offers = ['None', 'Offer A','Offer B', 'Offer C', 'Offer D', 'Offer E']\n",
    "filtered_data = stay_churn[(stay_churn['City'].isin(cities))]\n",
    "\n",
    "grouped_data = filtered_data.groupby('Offer')['Customer_Status'].value_counts().unstack().fillna(0)\n",
    "grouped_data = filtered_data.groupby(['Offer', 'Customer_Status']).size().unstack()\n",
    "\n",
    "colors = ['#CF9FFF', '#D3D3D3']\n",
    "grouped_data.plot(kind='bar', stacked=True, figsize=(10, 6), color=colors)\n",
    "plt.xlabel('Offer', fontsize=15)\n",
    "plt.ylabel('Frequency', fontsize=15)\n",
    "plt.title('Churn Rate by Offer Type', fontsize=20)\n",
    "plt.legend(['Churned', 'Stayed'])\n",
    "plt.xticks(rotation=0)\n",
    "\n",
    "plt.text(0, churnrate1, f' {churnrate1:.2f}%', ha='center', va='bottom', fontsize=13)\n",
    "plt.text(1, churnrate2, f' {churnrate2:.2f}%', ha='center', va='bottom', fontsize=13)\n",
    "plt.text(2, churnrate3, f' {churnrate3:.2f}%', ha='center', va='bottom', fontsize=13)\n",
    "plt.text(3, churnrate4, f' {churnrate4:.2f}%', ha='center', va='bottom', fontsize=13)\n",
    "plt.text(4, churnrate5, f' {churnrate5:.2f}%', ha='center', va='bottom', fontsize=13)\n",
    "plt.text(5, churnrate6, f' {churnrate6:.2f}%', ha='center', va='bottom', fontsize=13)\n",
    "\n",
    "plt.show()"
   ]
  },
  {
   "cell_type": "code",
   "execution_count": null,
   "id": "8d7f70d2-92de-471d-9bde-17c2ff165c6d",
   "metadata": {},
   "outputs": [],
   "source": []
  },
  {
   "cell_type": "code",
   "execution_count": 815,
   "id": "d16020de-d2e4-472c-bf39-e2d0308371fb",
   "metadata": {},
   "outputs": [
    {
     "data": {
      "image/png": "[encoded data removed]",
      "text/plain": [
       "<Figure size 360x720 with 1 Axes>"
      ]
     },
     "metadata": {
      "needs_background": "light"
     },
     "output_type": "display_data"
    }
   ],
   "source": [
    "filtered_data = churned_df[(churned_df['Number_of_Referrals'] > 0) & (churned_df['Number_of_Referrals'] < 6)]\n",
    "\n",
    "colors = ['#E7C0F7', '#D892F5', '#CA73FC', '#BB49FC','#A91FF7']\n",
    "filtered_data.groupby(['Customer_Status', 'Number_of_Referrals']).size().unstack().plot(kind='bar',stacked=True,color=colors, figsize=(5, 10))\n",
    "\n",
    "plt.xlabel(' ')\n",
    "plt.ylabel('Customers Churned', fontsize=15)\n",
    "plt.title('Churn By Referrals', fontsize=20)\n",
    "plt.show()"
   ]
  },
  {
   "cell_type": "code",
   "execution_count": null,
   "id": "347028c4-9b9e-4dd6-acc9-2cfb7e1d3765",
   "metadata": {},
   "outputs": [],
   "source": []
  },
  {
   "cell_type": "code",
   "execution_count": 810,
   "id": "31f0f778-73cc-4c8f-a184-57c8ef9d7980",
   "metadata": {},
   "outputs": [],
   "source": [
    "churned_df = data_frame[data_frame['Customer_Status'] == 'Churned']\n",
    "filtered_data = churned_df[(churned_df['Number_of_Referrals'] < 1)]"
   ]
  },
  {
   "cell_type": "code",
   "execution_count": 811,
   "id": "28ee44ac-28e0-436b-a52f-5fc219e00903",
   "metadata": {},
   "outputs": [
    {
     "data": {
      "image/png": "[encoded data removed]",
      "text/plain": [
       "<Figure size 360x720 with 1 Axes>"
      ]
     },
     "metadata": {
      "needs_background": "light"
     },
     "output_type": "display_data"
    }
   ],
   "source": [
    "filtered_data.groupby(['Customer_Status', 'Number_of_Referrals']).size().unstack().plot(kind='bar',stacked=True, color='#C0C0C0', figsize=(5, 10))\n",
    "\n",
    "plt.xlabel(' ')\n",
    "plt.ylabel('Customers Churned', fontsize=15)\n",
    "plt.title('Churn By Referrals', fontsize=20)\n",
    "plt.show()"
   ]
  },
  {
   "cell_type": "code",
   "execution_count": null,
   "id": "9dda877c-bb1c-4893-8a31-ea591ae18eee",
   "metadata": {},
   "outputs": [],
   "source": []
  },
  {
   "cell_type": "code",
   "execution_count": 812,
   "id": "6cbdce9f-f2c4-4bdd-9f98-4eb8869395b6",
   "metadata": {},
   "outputs": [],
   "source": [
    "competitor = data_frame[data_frame['Churn_Category'] == 'Competitor']"
   ]
  },
  {
   "cell_type": "code",
   "execution_count": 813,
   "id": "16e8bcc7-88c0-4e44-88b1-0dc3b26fb8c0",
   "metadata": {},
   "outputs": [],
   "source": [
    "top_reasons = competitor['Churn_Reason'].value_counts().head(3)"
   ]
  },
  {
   "cell_type": "code",
   "execution_count": 814,
   "id": "f4d87c0b-5279-48dc-b687-f903cf591fad",
   "metadata": {},
   "outputs": [
    {
     "data": {
      "image/png": "[encoded data removed]",
      "text/plain": [
       "<Figure size 720x432 with 1 Axes>"
      ]
     },
     "metadata": {
      "needs_background": "light"
     },
     "output_type": "display_data"
    }
   ],
   "source": [
    "colors = ['#CF9FFF', '#8F00FF', '#CF9FFF']\n",
    "top_reasons.plot.bar(color=colors, figsize=(10, 6))\n",
    "plt.xlabel('Churn Reason', fontsize=15)\n",
    "plt.ylabel('Frequency', fontsize=15)\n",
    "plt.title('Top 3 Reasons For Churn by Competitor', fontsize=20)\n",
    "plt.xticks(rotation=0)\n",
    "plt.show()"
   ]
  },
  {
   "cell_type": "code",
   "execution_count": null,
   "id": "7b5f4f26-84b9-4911-a8a6-ca6e7881f294",
   "metadata": {},
   "outputs": [],
   "source": []
  },
  {
   "cell_type": "code",
   "execution_count": 713,
   "id": "93f71fef-679a-4307-942c-8607be26a3b2",
   "metadata": {},
   "outputs": [],
   "source": [
    "data_frame = data_frame.reset_index(drop=True)"
   ]
  },
  {
   "cell_type": "code",
   "execution_count": 714,
   "id": "f7768024-b153-4131-a506-1cff775ea573",
   "metadata": {},
   "outputs": [],
   "source": [
    "stayed_df = data_frame[data_frame['Customer_Status'] == 'Stayed']"
   ]
  },
  {
   "cell_type": "code",
   "execution_count": 715,
   "id": "e7012468-be96-4288-821d-d360d42b3ef8",
   "metadata": {},
   "outputs": [],
   "source": [
    "churned_df = data_frame[data_frame['Customer_Status'] == 'Churned']"
   ]
  },
  {
   "cell_type": "code",
   "execution_count": 716,
   "id": "25307683-c58e-4e51-a80b-f997bcc735fe",
   "metadata": {},
   "outputs": [
    {
     "name": "stdout",
     "output_type": "stream",
     "text": [
      "Churned    1863\n",
      "Name: Customer_Status, dtype: int64\n"
     ]
    }
   ],
   "source": [
    "column_count = churned_df['Customer_Status'].value_counts()\n",
    "print(column_count)"
   ]
  },
  {
   "cell_type": "code",
   "execution_count": 717,
   "id": "fa904123-ad21-4f74-9afe-5be9351c26a8",
   "metadata": {},
   "outputs": [],
   "source": [
    "average = stayed_df['Monthly_Charge'].mean()"
   ]
  },
  {
   "cell_type": "code",
   "execution_count": 718,
   "id": "496cd82b-6a2a-4d3c-9163-590c6c6d30b7",
   "metadata": {},
   "outputs": [
    {
     "name": "stdout",
     "output_type": "stream",
     "text": [
      "61.73741528664605\n"
     ]
    }
   ],
   "source": [
    "print(average)"
   ]
  },
  {
   "cell_type": "code",
   "execution_count": 719,
   "id": "340793de-bb41-4d84-8979-f86b52a54744",
   "metadata": {},
   "outputs": [],
   "source": [
    "average = churned_df['Monthly_Charge'].mean()"
   ]
  },
  {
   "cell_type": "code",
   "execution_count": 720,
   "id": "23f52bae-d2fb-4848-bd33-b1fe07e80c93",
   "metadata": {},
   "outputs": [
    {
     "name": "stdout",
     "output_type": "stream",
     "text": [
      "73.36339238607557\n"
     ]
    }
   ],
   "source": [
    "print(average)"
   ]
  },
  {
   "cell_type": "code",
   "execution_count": 721,
   "id": "54430c4a-93de-4013-8b56-e4e6b48e3db0",
   "metadata": {},
   "outputs": [],
   "source": [
    "avg1 = stayed_df['Monthly_Charge'].mean()\n",
    "avg2 = churned_df['Monthly_Charge'].mean()"
   ]
  },
  {
   "cell_type": "code",
   "execution_count": 722,
   "id": "accaed46-863f-478d-a3ef-842d6de0d563",
   "metadata": {},
   "outputs": [
    {
     "data": {
      "image/png": "[encoded data removed]",
      "text/plain": [
       "<Figure size 432x288 with 1 Axes>"
      ]
     },
     "metadata": {
      "needs_background": "light"
     },
     "output_type": "display_data"
    }
   ],
   "source": [
    "colors = ['#C0C0C0', '#CF9FFF']\n",
    "plt.bar(['Staying', 'Churned'], [avg1, avg2], color = colors)\n",
    "plt.xlabel('Customer Status', fontsize=15)\n",
    "plt.ylabel('Average Monthly Charge', fontsize=15)\n",
    "plt.title('Average Monthly Charges Based on Customer Status', fontsize=17)\n",
    "plt.text(0, avg1, f'Avg: {avg1:.2f}', ha='center', va='top', fontsize=15)\n",
    "plt.text(1, avg2, f'Avg: {avg2:.2f}', ha='center', va='top', fontsize=15)\n",
    "plt.show()"
   ]
  },
  {
   "cell_type": "code",
   "execution_count": 723,
   "id": "806064c9-6feb-4fc3-bfd6-c2b9a965c5d5",
   "metadata": {},
   "outputs": [
    {
     "data": {
      "image/png": "[encoded data removed]",
      "text/plain": [
       "<Figure size 432x288 with 1 Axes>"
      ]
     },
     "metadata": {
      "needs_background": "light"
     },
     "output_type": "display_data"
    }
   ],
   "source": [
    "fig, ax = plt.subplots()\n",
    "ax.boxplot([stayed_df['Monthly_Charge'], churned_df['Monthly_Charge']])\n",
    "ax.set_xlabel('Customer Status', fontsize=15)\n",
    "ax.set_ylabel('Charges', fontsize=15)\n",
    "ax.set_xticklabels(['Staying Customers', 'Churned Customers'])\n",
    "ax.set_title('Monthly Charges of Staying and Churned Customers', fontsize=17)\n",
    "plt.show()"
   ]
  },
  {
   "cell_type": "code",
   "execution_count": null,
   "id": "671071c7-a89c-410c-9c50-72f8caabb46b",
   "metadata": {},
   "outputs": [],
   "source": []
  },
  {
   "cell_type": "code",
   "execution_count": null,
   "id": "5f77fb13-cb45-4afc-991f-af6bb7716b8e",
   "metadata": {},
   "outputs": [],
   "source": []
  },
  {
   "cell_type": "code",
   "execution_count": null,
   "id": "3cd43074-2ca3-41c1-915b-13872d5b702d",
   "metadata": {},
   "outputs": [],
   "source": []
  },
  {
   "cell_type": "code",
   "execution_count": null,
   "id": "d21a0696-e22e-422f-972a-9244ff02a027",
   "metadata": {},
   "outputs": [],
   "source": []
  },
  {
   "cell_type": "code",
   "execution_count": null,
   "id": "da6daa25-13c5-476f-ab20-00e849ec08d2",
   "metadata": {},
   "outputs": [],
   "source": []
  },
  {
   "cell_type": "code",
   "execution_count": null,
   "id": "202678c1-6d4a-4e8e-b824-af47b59c43bb",
   "metadata": {},
   "outputs": [],
   "source": []
  },
  {
   "cell_type": "code",
   "execution_count": null,
   "id": "f8acbb9c-d046-4057-a671-feaaf4be472e",
   "metadata": {},
   "outputs": [],
   "source": []
  },
  {
   "cell_type": "code",
   "execution_count": null,
   "id": "c4f611eb-af19-402c-b4ef-7731aa6a1c30",
   "metadata": {},
   "outputs": [],
   "source": []
  }
 ],
 "metadata": {
  "kernelspec": {
   "display_name": "Python 3 (ipykernel)",
   "language": "python",
   "name": "python3"
  },
  "language_info": {
   "codemirror_mode": {
    "name": "ipython",
    "version": 3
   },
   "file_extension": ".py",
   "mimetype": "text/x-python",
   "name": "python",
   "nbconvert_exporter": "python",
   "pygments_lexer": "ipython3",
   "version": "3.9.7"
  }
 },
 "nbformat": 4,
 "nbformat_minor": 5
}
